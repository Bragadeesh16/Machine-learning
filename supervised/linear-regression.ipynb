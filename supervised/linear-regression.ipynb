{
 "cells": [
  {
   "cell_type": "code",
   "execution_count": 389,
   "metadata": {},
   "outputs": [],
   "source": [
    "from sklearn.linear_model import LinearRegression\n",
    "from sklearn import preprocessing\n",
    "from sklearn.model_selection import train_test_split\n",
    "import pandas as pd\n",
    "import math,datetime\n",
    "import numpy as np\n",
    "from statistics import mean\n",
    "import matplotlib.pyplot as plt\n",
    "from matplotlib import style\n",
    "\n",
    "style.use('ggplot')"
   ]
  },
  {
   "cell_type": "code",
   "execution_count": 390,
   "metadata": {},
   "outputs": [
    {
     "data": {
      "text/html": [
       "<div>\n",
       "<style scoped>\n",
       "    .dataframe tbody tr th:only-of-type {\n",
       "        vertical-align: middle;\n",
       "    }\n",
       "\n",
       "    .dataframe tbody tr th {\n",
       "        vertical-align: top;\n",
       "    }\n",
       "\n",
       "    .dataframe thead th {\n",
       "        text-align: right;\n",
       "    }\n",
       "</style>\n",
       "<table border=\"1\" class=\"dataframe\">\n",
       "  <thead>\n",
       "    <tr style=\"text-align: right;\">\n",
       "      <th></th>\n",
       "      <th>Open</th>\n",
       "      <th>High</th>\n",
       "      <th>Low</th>\n",
       "      <th>Close</th>\n",
       "      <th>Volume</th>\n",
       "      <th>HL_PCT</th>\n",
       "      <th>PCT_CHANGE</th>\n",
       "    </tr>\n",
       "  </thead>\n",
       "  <tbody>\n",
       "    <tr>\n",
       "      <th>2004-08-19</th>\n",
       "      <td>2.490664</td>\n",
       "      <td>2.591785</td>\n",
       "      <td>2.390042</td>\n",
       "      <td>2.499133</td>\n",
       "      <td>897427216</td>\n",
       "      <td>159.1785</td>\n",
       "      <td>149.9133</td>\n",
       "    </tr>\n",
       "    <tr>\n",
       "      <th>2004-08-20</th>\n",
       "      <td>2.515820</td>\n",
       "      <td>2.716817</td>\n",
       "      <td>2.503118</td>\n",
       "      <td>2.697639</td>\n",
       "      <td>458857488</td>\n",
       "      <td>171.6817</td>\n",
       "      <td>169.7639</td>\n",
       "    </tr>\n",
       "    <tr>\n",
       "      <th>2004-08-23</th>\n",
       "      <td>2.758411</td>\n",
       "      <td>2.826406</td>\n",
       "      <td>2.716070</td>\n",
       "      <td>2.724787</td>\n",
       "      <td>366857939</td>\n",
       "      <td>182.6406</td>\n",
       "      <td>172.4787</td>\n",
       "    </tr>\n",
       "    <tr>\n",
       "      <th>2004-08-24</th>\n",
       "      <td>2.770615</td>\n",
       "      <td>2.779581</td>\n",
       "      <td>2.579581</td>\n",
       "      <td>2.611960</td>\n",
       "      <td>306396159</td>\n",
       "      <td>177.9581</td>\n",
       "      <td>161.1960</td>\n",
       "    </tr>\n",
       "    <tr>\n",
       "      <th>2004-08-25</th>\n",
       "      <td>2.614201</td>\n",
       "      <td>2.689918</td>\n",
       "      <td>2.587302</td>\n",
       "      <td>2.640104</td>\n",
       "      <td>184645512</td>\n",
       "      <td>168.9918</td>\n",
       "      <td>164.0104</td>\n",
       "    </tr>\n",
       "  </tbody>\n",
       "</table>\n",
       "</div>"
      ],
      "text/plain": [
       "                Open      High       Low  ...     Volume    HL_PCT  PCT_CHANGE\n",
       "2004-08-19  2.490664  2.591785  2.390042  ...  897427216  159.1785    149.9133\n",
       "2004-08-20  2.515820  2.716817  2.503118  ...  458857488  171.6817    169.7639\n",
       "2004-08-23  2.758411  2.826406  2.716070  ...  366857939  182.6406    172.4787\n",
       "2004-08-24  2.770615  2.779581  2.579581  ...  306396159  177.9581    161.1960\n",
       "2004-08-25  2.614201  2.689918  2.587302  ...  184645512  168.9918    164.0104\n",
       "\n",
       "[5 rows x 7 columns]"
      ]
     },
     "execution_count": 390,
     "metadata": {},
     "output_type": "execute_result"
    }
   ],
   "source": [
    "df = pd.read_csv('../datasets/GOOG.csv')\n",
    "df.index = np.array(df['Date'])\n",
    "df  = df[['Open','High','Low','Close','Volume']]\n",
    "df['HL_PCT'] = (df['High'] - df['Close'] / df['Close']) * 100\n",
    "df['PCT_CHANGE'] = (df['Close'] - df['Open'] / df['Open']) * 100\n",
    "\n",
    "df.head()"
   ]
  },
  {
   "cell_type": "code",
   "execution_count": 391,
   "metadata": {},
   "outputs": [],
   "source": [
    "df = df[['HL_PCT','PCT_CHANGE',  'Close', 'Volume']]\n",
    "df.head()\n",
    "forecast_col = 'Close'\n",
    "df.fillna(-9999,inplace=True)\n",
    "forecast_out = int(math.ceil(0.1*len(df)))\n",
    "df['label'] =  df[forecast_col].shift(-forecast_out)\n",
    "df.dropna(inplace=True)"
   ]
  },
  {
   "cell_type": "code",
   "execution_count": 392,
   "metadata": {},
   "outputs": [],
   "source": [
    "X = np.array(df.drop(['label'], axis=1))\n",
    "X = X[:-forecast_out]\n",
    "X_lately = X[-forecast_out:]\n",
    "X = preprocessing.scale(X)\n",
    "Y = np.array(df['label'])\n",
    "\n",
    "Y = Y[:-forecast_out]\n",
    "df.dropna(inplace=True)\n",
    "\n"
   ]
  },
  {
   "cell_type": "code",
   "execution_count": 393,
   "metadata": {},
   "outputs": [
    {
     "name": "stdout",
     "output_type": "stream",
     "text": [
      "0.8751814264094224\n"
     ]
    }
   ],
   "source": [
    "x_train ,  x_test , y_train  , y_test  = train_test_split(X,Y,test_size=0.2)\n",
    "\n",
    "clf = LinearRegression(n_jobs=-1)\n",
    "clf.fit(x_train,y_train)\n",
    "\n",
    "''' for save the model '''\n",
    "\n",
    "# with open('LinearRegression.pickle','wb') as f:\n",
    "#     pickle.dump(clf,f)\n",
    "\n",
    "# pickle_clf = open('LinearRegression.pickle','rb')\n",
    "# clf = pickle.load(pickle_clf)\n",
    "\n",
    "clf.coef_\n",
    "accuracy = clf.score(x_test,y_test)\n",
    "forecast_set = clf.predict(X_lately)\n",
    "print(accuracy)\n"
   ]
  },
  {
   "cell_type": "markdown",
   "metadata": {},
   "source": [
    "core regression"
   ]
  },
  {
   "cell_type": "code",
   "execution_count": 407,
   "metadata": {},
   "outputs": [],
   "source": [
    "def best_fit_and_y_intersecpt(x,y):\n",
    "    m = ( (mean(x) * mean(y)) - mean((x*y)) ) / (( mean(x) **2 ) - ( mean(x**2) ) ) \n",
    "    b = mean(y) - (m*mean(x))\n",
    "    return m ,b\n",
    "\n",
    "x = np.array([1,2,3,4,5],dtype=np.float64)\n",
    "y = np.array([2,4,6,8,10],dtype=np.float64)\n",
    "\n",
    "m , b = best_fit_and_y_intersecpt(x,y)\n",
    "\n",
    "line = [m*i + b for i in x]\n",
    "\n",
    "x_predict = 6\n",
    "y_predict = m*x_predict + b\n"
   ]
  },
  {
   "cell_type": "code",
   "execution_count": 408,
   "metadata": {},
   "outputs": [
    {
     "data": {
      "text/plain": [
       "[<matplotlib.lines.Line2D at 0x7fde5d9b0520>]"
      ]
     },
     "execution_count": 408,
     "metadata": {},
     "output_type": "execute_result"
    },
    {
     "data": {
      "image/png": "[encoded data removed]",
      "text/plain": [
       "<Figure size 640x480 with 1 Axes>"
      ]
     },
     "metadata": {},
     "output_type": "display_data"
    }
   ],
   "source": [
    "plt.scatter(x,y)\n",
    "plt.scatter(x_predict,y_predict)\n",
    "plt.plot(x,line)"
   ]
  },
  {
   "cell_type": "code",
   "execution_count": null,
   "metadata": {},
   "outputs": [],
   "source": []
  }
 ],
 "metadata": {
  "kernelspec": {
   "display_name": "env",
   "language": "python",
   "name": "python3"
  },
  "language_info": {
   "codemirror_mode": {
    "name": "ipython",
    "version": 3
   },
   "file_extension": ".py",
   "mimetype": "text/x-python",
   "name": "python",
   "nbconvert_exporter": "python",
   "pygments_lexer": "ipython3",
   "version": "3.10.12"
  }
 },
 "nbformat": 4,
 "nbformat_minor": 2
}
