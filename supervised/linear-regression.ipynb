{
 "cells": [
  {
   "cell_type": "code",
   "execution_count": 112,
   "metadata": {},
   "outputs": [],
   "source": [
    "from sklearn.linear_model import LinearRegression\n",
    "from sklearn import preprocessing\n",
    "from sklearn.model_selection import train_test_split\n",
    "import pandas as pd\n",
    "import math\n",
    "import numpy as np"
   ]
  },
  {
   "cell_type": "code",
   "execution_count": 113,
   "metadata": {},
   "outputs": [],
   "source": [
    "df = pd.read_csv('../datasets/GOOG.csv')\n",
    "df.head()\n",
    "df  = df[['Open','High','Low','Close','Volume']]\n",
    "df['HL_PCT'] = (df['High'] - df['Close'] / df['Close']) * 100\n",
    "df['PCT_CHANGE'] = (df['Close'] - df['Open'] / df['Open']) * 100\n"
   ]
  },
  {
   "cell_type": "code",
   "execution_count": 114,
   "metadata": {},
   "outputs": [],
   "source": [
    "df = df[['HL_PCT','PCT_CHANGE',  'Close', 'Volume']]\n",
    "df.head()\n",
    "forcast_col = 'Close'\n",
    "df.fillna(-9999,inplace=True)\n",
    "forcast_out = int(math.ceil(0.1*len(df)))\n",
    "df['label'] =  df[forcast_col].shift(-forcast_out)\n",
    "df.dropna(inplace=True)"
   ]
  },
  {
   "cell_type": "code",
   "execution_count": 115,
   "metadata": {},
   "outputs": [],
   "source": [
    "X = np.array(df.drop(['label'], axis=1))\n",
    "Y = np.array(df['label'])\n",
    "X = preprocessing.scale(X)\n"
   ]
  },
  {
   "cell_type": "code",
   "execution_count": 116,
   "metadata": {},
   "outputs": [
    {
     "data": {
      "text/plain": [
       "0.8002123718143772"
      ]
     },
     "execution_count": 116,
     "metadata": {},
     "output_type": "execute_result"
    }
   ],
   "source": [
    "x_train ,  x_test , y_train  , y_test  = train_test_split(X,Y,test_size=0.2)\n",
    "\n",
    "clf = LinearRegression(n_jobs=-1)\n",
    "clf.fit(x_train,y_train)\n",
    "clf.coef_\n",
    "clf.score(x_test,y_test)"
   ]
  },
  {
   "cell_type": "code",
   "execution_count": null,
   "metadata": {},
   "outputs": [],
   "source": []
  }
 ],
 "metadata": {
  "kernelspec": {
   "display_name": "env",
   "language": "python",
   "name": "python3"
  },
  "language_info": {
   "codemirror_mode": {
    "name": "ipython",
    "version": 3
   },
   "file_extension": ".py",
   "mimetype": "text/x-python",
   "name": "python",
   "nbconvert_exporter": "python",
   "pygments_lexer": "ipython3",
   "version": "3.10.12"
  }
 },
 "nbformat": 4,
 "nbformat_minor": 2
}
